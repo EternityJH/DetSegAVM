{
 "cells": [
  {
   "cell_type": "markdown",
   "metadata": {},
   "source": [
    "## Import Modules"
   ]
  },
  {
   "cell_type": "code",
   "execution_count": 1,
   "metadata": {},
   "outputs": [
    {
     "name": "stdout",
     "output_type": "stream",
     "text": [
      "cuda available: True\n"
     ]
    }
   ],
   "source": [
    "import pandas as pd\n",
    "import numpy as np\n",
    "import scipy.io as sio\n",
    "import os\n",
    "from os import listdir\n",
    "from os.path import isfile, join\n",
    "import time\n",
    "import math\n",
    "from IPython.display import clear_output\n",
    "import glob\n",
    "\n",
    "import torch\n",
    "import torch.nn as nn\n",
    "import torch.nn.functional as F\n",
    "from torch import optim\n",
    "\n",
    "import matplotlib.pyplot as plt\n",
    "import torchvision.transforms as T\n",
    "#from torchsampler import ImbalancedDatasetSampler\n",
    "import os\n",
    "#os.environ['CUDA_LAUNCH_BLOCKING'] = '1'\n",
    "print('cuda available: '+ str(torch.cuda.is_available()))\n",
    "#from skimage.morphology import disk, binary_dilation\n",
    "\n",
    "from models_avm import NestedUNet\n",
    "from loss_fun_avm import compute_per_channel_dice, DiceLoss, FocalLoss\n",
    "from tra_val_avm import train, validation\n",
    "from data_loader_avm import Dataset"
   ]
  },
  {
   "cell_type": "markdown",
   "metadata": {},
   "source": [
    "## Data Path"
   ]
  },
  {
   "cell_type": "code",
   "execution_count": 2,
   "metadata": {},
   "outputs": [],
   "source": [
    "path_tra1 = '/work/samhong833/Data_AVM/forUNetpp/1_tra/1'\n",
    "list_tra1 = os.listdir(path_tra1)\n",
    "for i in range(len(list_tra1)):\n",
    "    list_tra1[i] = path_tra1+'/'+list_tra1[i]\n",
    "    \n",
    "list_tra = list_tra1\n",
    "    \n",
    "path_val1 = '/work/samhong833/Data_AVM/forUNetpp/2_val/1'\n",
    "list_val1 = os.listdir(path_val1)\n",
    "for i in range(len(list_val1)):\n",
    "    list_val1[i] = path_val1+'/'+list_val1[i]\n",
    "    \n",
    "list_val = list_val1\n",
    "\n",
    "path_ts1 = '/work/samhong833/Data_AVM/forUNetpp/3_ts/1'\n",
    "list_ts1 = os.listdir(path_ts1)\n",
    "for i in range(len(list_ts1)):\n",
    "    list_ts1[i] = path_ts1+'/'+list_ts1[i]\n",
    "    \n",
    "list_ts = list_ts1\n",
    "\n",
    "path_tra_lab_txt = '/work/samhong833/Data_AVM/forYOLOv5/labels/1_tra'\n",
    "path_val_lab_txt = '/work/samhong833/Data_AVM/forYOLOv5/labels/2_val'\n",
    "path_ts_lab_txt = '/work/samhong833/Data_AVM/forYOLOv5/labels/3_ts'"
   ]
  },
  {
   "cell_type": "markdown",
   "metadata": {},
   "source": [
    "## Data Loader"
   ]
  },
  {
   "cell_type": "code",
   "execution_count": 3,
   "metadata": {},
   "outputs": [],
   "source": [
    "train_data = Dataset(list_tra,path_tra_lab_txt,rand_dilate=True,max_dilate_factor=10)\n",
    "train_loader = torch.utils.data.DataLoader(\n",
    "    train_data, \n",
    "    batch_size = 12,\n",
    "    shuffle = True,   \n",
    ")\n",
    "\n",
    "val_data = Dataset(list_val,path_val_lab_txt,rand_dilate=True,max_dilate_factor=10)\n",
    "val_loader = torch.utils.data.DataLoader(\n",
    "    dataset = val_data,           \n",
    "    batch_size = 4,                 \n",
    "    shuffle = False,              \n",
    ")"
   ]
  },
  {
   "cell_type": "markdown",
   "metadata": {},
   "source": [
    "## Initialize Model and Optimization Parameters"
   ]
  },
  {
   "cell_type": "code",
   "execution_count": 4,
   "metadata": {},
   "outputs": [],
   "source": [
    "# call model cuda for gpu\n",
    "model = NestedUNet().cuda()\n",
    "\n",
    "# define optimizer\n",
    "optimizer = optim.Adam(model.parameters(), lr=1e-4)\n",
    "scheduler = torch.optim.lr_scheduler.StepLR(optimizer, 10, gamma=0.95)\n",
    "\n",
    "# loss function\n",
    "kwargs = {\"alpha\": 0.5, \"gamma\": 3, \"reduction\": 'mean'}\n",
    "criterion_FL = FocalLoss(**kwargs)\n",
    "criterion_DICE = DiceLoss()\n",
    "loss = [criterion_FL,criterion_DICE]"
   ]
  },
  {
   "cell_type": "markdown",
   "metadata": {},
   "source": [
    "## Start to Train"
   ]
  },
  {
   "cell_type": "code",
   "execution_count": null,
   "metadata": {},
   "outputs": [],
   "source": [
    "# Create Directory\n",
    "path = '/work/samhong833/Models/Seg_dia10'\n",
    "\n",
    "if os.path.isdir(path)==False:\n",
    "    os.mkdir(path)\n",
    "path = os.path.join(path,\"train\")\n",
    "if os.path.isdir(path)==False:\n",
    "    os.mkdir(path)       \n",
    "filenum = glob.glob(path + \"/exp*\")\n",
    "path = path + \"/exp\" + str(len(filenum)+1)\n",
    "os.mkdir(path)\n",
    "\n",
    "# Train the Model\n",
    "epochs = 500 # The number of epochs\n",
    "\n",
    "valloss = 0\n",
    "for epoch in range(1, epochs + 1):\n",
    "    epoch_start_time = time.time()\n",
    "    train(path=path,\n",
    "          model=model,\n",
    "          loss=loss,\n",
    "          optimizer=optimizer,\n",
    "          dataloader=train_loader,\n",
    "          epoch=epoch,\n",
    "          scheduler=scheduler)\n",
    "    print('-' * 89)\n",
    "    vallossnew = validation(path=path,\n",
    "          model=model,\n",
    "          loss=loss,\n",
    "          dataloader=val_loader,\n",
    "          epoch=epoch)\n",
    "    print('-' * 89)\n",
    "    print('| end of epoch {:3d} | time: {:5.2f}s'.format(epoch, (time.time() - epoch_start_time)))\n",
    "    print('-' * 89)\n",
    "    \n",
    "    scheduler.step()\n",
    "    \n",
    "    f2 = open(path + '/model_info.txt', 'a')\n",
    "    if vallossnew<valloss or epoch ==1: \n",
    "        fname = path + '/best_val'  + '.tar'\n",
    "        torch.save(model.state_dict(), fname)\n",
    "        valloss = vallossnew\n",
    "        f2.write('| best_val | epoch {:3d}| '.format(epoch)+'\\r\\n')        \n",
    "    f2.close()\n",
    "    "
   ]
  },
  {
   "cell_type": "markdown",
   "metadata": {},
   "source": [
    "# Log ^"
   ]
  }
 ],
 "metadata": {
  "kernelspec": {
   "display_name": "Python 3 (ipykernel)",
   "language": "python",
   "name": "python3"
  },
  "language_info": {
   "codemirror_mode": {
    "name": "ipython",
    "version": 3
   },
   "file_extension": ".py",
   "mimetype": "text/x-python",
   "name": "python",
   "nbconvert_exporter": "python",
   "pygments_lexer": "ipython3",
   "version": "3.8.12"
  }
 },
 "nbformat": 4,
 "nbformat_minor": 4
}
